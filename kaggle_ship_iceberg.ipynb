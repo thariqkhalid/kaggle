{
 "cells": [
  {
   "cell_type": "code",
   "execution_count": 1,
   "metadata": {
    "collapsed": true
   },
   "outputs": [],
   "source": [
    "import pandas as pd\n",
    "import json\n",
    "import numpy as np\n",
    "import matplotlib.pyplot as plt\n",
    "from skimage import color\n",
    "from sklearn.preprocessing import OneHotEncoder"
   ]
  },
  {
   "cell_type": "code",
   "execution_count": 2,
   "metadata": {
    "collapsed": true
   },
   "outputs": [],
   "source": [
    "data = pd.read_json(\"train.json\")"
   ]
  },
  {
   "cell_type": "code",
   "execution_count": 3,
   "metadata": {
    "collapsed": true
   },
   "outputs": [],
   "source": [
    "def normalize(v):\n",
    "    minv = np.min(v)\n",
    "    maxv = np.max(v)\n",
    "    res = (v-minv)/(maxv-minv)\n",
    "    return res"
   ]
  },
  {
   "cell_type": "code",
   "execution_count": 4,
   "metadata": {},
   "outputs": [
    {
     "data": {
      "text/html": [
       "<div>\n",
       "<style>\n",
       "    .dataframe thead tr:only-child th {\n",
       "        text-align: right;\n",
       "    }\n",
       "\n",
       "    .dataframe thead th {\n",
       "        text-align: left;\n",
       "    }\n",
       "\n",
       "    .dataframe tbody tr th {\n",
       "        vertical-align: top;\n",
       "    }\n",
       "</style>\n",
       "<table border=\"1\" class=\"dataframe\">\n",
       "  <thead>\n",
       "    <tr style=\"text-align: right;\">\n",
       "      <th></th>\n",
       "      <th>band_1</th>\n",
       "      <th>band_2</th>\n",
       "      <th>id</th>\n",
       "      <th>inc_angle</th>\n",
       "      <th>is_iceberg</th>\n",
       "    </tr>\n",
       "  </thead>\n",
       "  <tbody>\n",
       "    <tr>\n",
       "      <th>0</th>\n",
       "      <td>[-27.878361, -27.15416, -28.668615, -29.537971...</td>\n",
       "      <td>[-27.154118, -29.537888, -31.0306, -32.190483,...</td>\n",
       "      <td>dfd5f913</td>\n",
       "      <td>43.9239</td>\n",
       "      <td>0</td>\n",
       "    </tr>\n",
       "    <tr>\n",
       "      <th>1</th>\n",
       "      <td>[-12.242375, -14.920305, -14.920363, -12.66633...</td>\n",
       "      <td>[-31.506321, -27.984554, -26.645678, -23.76760...</td>\n",
       "      <td>e25388fd</td>\n",
       "      <td>38.1562</td>\n",
       "      <td>0</td>\n",
       "    </tr>\n",
       "    <tr>\n",
       "      <th>2</th>\n",
       "      <td>[-24.603676, -24.603714, -24.871029, -23.15277...</td>\n",
       "      <td>[-24.870956, -24.092632, -20.653963, -19.41104...</td>\n",
       "      <td>58b2aaa0</td>\n",
       "      <td>45.2859</td>\n",
       "      <td>1</td>\n",
       "    </tr>\n",
       "    <tr>\n",
       "      <th>3</th>\n",
       "      <td>[-22.454607, -23.082819, -23.998013, -23.99805...</td>\n",
       "      <td>[-27.889421, -27.519794, -27.165262, -29.10350...</td>\n",
       "      <td>4cfc3a18</td>\n",
       "      <td>43.8306</td>\n",
       "      <td>0</td>\n",
       "    </tr>\n",
       "    <tr>\n",
       "      <th>4</th>\n",
       "      <td>[-26.006956, -23.164886, -23.164886, -26.89116...</td>\n",
       "      <td>[-27.206915, -30.259186, -30.259186, -23.16495...</td>\n",
       "      <td>271f93f4</td>\n",
       "      <td>35.6256</td>\n",
       "      <td>0</td>\n",
       "    </tr>\n",
       "  </tbody>\n",
       "</table>\n",
       "</div>"
      ],
      "text/plain": [
       "                                              band_1  \\\n",
       "0  [-27.878361, -27.15416, -28.668615, -29.537971...   \n",
       "1  [-12.242375, -14.920305, -14.920363, -12.66633...   \n",
       "2  [-24.603676, -24.603714, -24.871029, -23.15277...   \n",
       "3  [-22.454607, -23.082819, -23.998013, -23.99805...   \n",
       "4  [-26.006956, -23.164886, -23.164886, -26.89116...   \n",
       "\n",
       "                                              band_2        id inc_angle  \\\n",
       "0  [-27.154118, -29.537888, -31.0306, -32.190483,...  dfd5f913   43.9239   \n",
       "1  [-31.506321, -27.984554, -26.645678, -23.76760...  e25388fd   38.1562   \n",
       "2  [-24.870956, -24.092632, -20.653963, -19.41104...  58b2aaa0   45.2859   \n",
       "3  [-27.889421, -27.519794, -27.165262, -29.10350...  4cfc3a18   43.8306   \n",
       "4  [-27.206915, -30.259186, -30.259186, -23.16495...  271f93f4   35.6256   \n",
       "\n",
       "   is_iceberg  \n",
       "0           0  \n",
       "1           0  \n",
       "2           1  \n",
       "3           0  \n",
       "4           0  "
      ]
     },
     "execution_count": 4,
     "metadata": {},
     "output_type": "execute_result"
    }
   ],
   "source": [
    "data.head()"
   ]
  },
  {
   "cell_type": "code",
   "execution_count": 5,
   "metadata": {
    "collapsed": true
   },
   "outputs": [],
   "source": [
    "HH = np.asarray(np.vstack(data.band_1.values))\n",
    "HV = np.asarray(np.vstack(data.band_2.values))\n",
    "HB = HH/HV"
   ]
  },
  {
   "cell_type": "code",
   "execution_count": 6,
   "metadata": {
    "collapsed": true
   },
   "outputs": [],
   "source": [
    "R = normalize(HH)\n",
    "G = normalize(HV)\n",
    "B = normalize(HB)"
   ]
  },
  {
   "cell_type": "code",
   "execution_count": 7,
   "metadata": {},
   "outputs": [
    {
     "name": "stdout",
     "output_type": "stream",
     "text": [
      "(1604, 5625) (1604, 5625) (1604, 5625)\n"
     ]
    }
   ],
   "source": [
    "print R.shape, G.shape, B.shape"
   ]
  },
  {
   "cell_type": "code",
   "execution_count": 8,
   "metadata": {
    "collapsed": true
   },
   "outputs": [],
   "source": [
    "label = np.asarray(np.vstack(data.is_iceberg.values))"
   ]
  },
  {
   "cell_type": "code",
   "execution_count": 9,
   "metadata": {},
   "outputs": [
    {
     "data": {
      "text/plain": [
       "(1604, 1)"
      ]
     },
     "execution_count": 9,
     "metadata": {},
     "output_type": "execute_result"
    }
   ],
   "source": [
    "label.shape"
   ]
  },
  {
   "cell_type": "code",
   "execution_count": 10,
   "metadata": {},
   "outputs": [
    {
     "data": {
      "text/plain": [
       "(1604, 75, 75, 3)"
      ]
     },
     "execution_count": 10,
     "metadata": {},
     "output_type": "execute_result"
    }
   ],
   "source": [
    "ims_h = np.hstack((R,G,B))\n",
    "ims = ims_h.reshape(1604,3,75,75).transpose(0,2,3,1).astype(\"float\")\n",
    "ims.shape"
   ]
  },
  {
   "cell_type": "code",
   "execution_count": 11,
   "metadata": {
    "collapsed": true
   },
   "outputs": [],
   "source": [
    "def displayimage(ims, id):\n",
    "    plt.imshow(ims[id],cmap='inferno')\n",
    "    plt.grid(False)\n",
    "    plt.title(data.is_iceberg[id])\n",
    "    plt.show()"
   ]
  },
  {
   "cell_type": "code",
   "execution_count": 12,
   "metadata": {
    "collapsed": true
   },
   "outputs": [],
   "source": [
    "gims = color.rgb2gray(ims)"
   ]
  },
  {
   "cell_type": "code",
   "execution_count": 13,
   "metadata": {},
   "outputs": [
    {
     "data": {
      "image/png": "[encoded data removed]",
      "text/plain": [
       "<matplotlib.figure.Figure at 0x1172d7910>"
      ]
     },
     "metadata": {},
     "output_type": "display_data"
    }
   ],
   "source": [
    "displayimage(gims,10)"
   ]
  },
  {
   "cell_type": "code",
   "execution_count": 14,
   "metadata": {
    "collapsed": true
   },
   "outputs": [],
   "source": [
    "import tensorflow as tf"
   ]
  },
  {
   "cell_type": "code",
   "execution_count": 15,
   "metadata": {
    "collapsed": true
   },
   "outputs": [],
   "source": [
    "def split_train_test(size, train_pc):\n",
    "    ind = range(size)\n",
    "    np.random.shuffle(ind)\n",
    "    slice_split = int(train_pc*size)\n",
    "    train_ind, test_ind = ind[:slice_split],ind[slice_split:]\n",
    "    return train_ind, test_ind"
   ]
  },
  {
   "cell_type": "code",
   "execution_count": 16,
   "metadata": {
    "collapsed": true
   },
   "outputs": [],
   "source": [
    "train_ind, test_ind = split_train_test(len(label),train_pc=0.8)"
   ]
  },
  {
   "cell_type": "code",
   "execution_count": 17,
   "metadata": {
    "collapsed": true
   },
   "outputs": [],
   "source": [
    "def flatten_images(ip_ims):\n",
    "    res_ims = ip_ims.reshape(-1,75*75)\n",
    "    return res_ims"
   ]
  },
  {
   "cell_type": "code",
   "execution_count": 18,
   "metadata": {
    "collapsed": true
   },
   "outputs": [],
   "source": [
    "gims_flat = flatten_images(gims)"
   ]
  },
  {
   "cell_type": "code",
   "execution_count": 19,
   "metadata": {
    "collapsed": true
   },
   "outputs": [],
   "source": [
    "Xtrain, Xval = gims_flat[train_ind],gims_flat[test_ind]\n",
    "Ytrain, Yval = label[train_ind],label[test_ind]"
   ]
  },
  {
   "cell_type": "code",
   "execution_count": 20,
   "metadata": {
    "collapsed": true
   },
   "outputs": [],
   "source": [
    "le = OneHotEncoder(sparse=False)\n",
    "Yval_o = le.fit_transform(Yval)\n",
    "\n",
    "Ytrain_o = le.fit_transform(Ytrain)"
   ]
  },
  {
   "cell_type": "code",
   "execution_count": 21,
   "metadata": {
    "collapsed": true
   },
   "outputs": [],
   "source": [
    "#displayimage(Xtrain,3)"
   ]
  },
  {
   "cell_type": "code",
   "execution_count": 22,
   "metadata": {
    "collapsed": true
   },
   "outputs": [],
   "source": [
    "def generate_batch(Xdata, Ydata, batch_size):\n",
    "    ind = range(len(Ydata))\n",
    "    np.random.shuffle(ind)\n",
    "    return Xdata[ind[:batch_size]], Ydata[ind[:batch_size]]"
   ]
  },
  {
   "cell_type": "markdown",
   "metadata": {},
   "source": [
    "Creating the Tensorflow graph for the architecture"
   ]
  },
  {
   "cell_type": "code",
   "execution_count": 23,
   "metadata": {
    "collapsed": true
   },
   "outputs": [],
   "source": [
    "X = tf.placeholder(tf.float32,[None,75*75])\n",
    "Y = tf.placeholder(tf.int32,[None,2])"
   ]
  },
  {
   "cell_type": "code",
   "execution_count": 24,
   "metadata": {
    "collapsed": true
   },
   "outputs": [],
   "source": [
    "W1 = tf.Variable(tf.truncated_normal(shape=[75*75,1028],stddev=0.1))\n",
    "b1 = tf.Variable(tf.constant(0.1, shape=[1028]))"
   ]
  },
  {
   "cell_type": "code",
   "execution_count": 25,
   "metadata": {
    "collapsed": true
   },
   "outputs": [],
   "source": [
    "layer1 = tf.nn.sigmoid(tf.matmul(X,W1) + b1)"
   ]
  },
  {
   "cell_type": "code",
   "execution_count": 26,
   "metadata": {},
   "outputs": [],
   "source": [
    "W2 = tf.Variable(tf.truncated_normal(shape=[1028,2],stddev=0.1))\n",
    "b2 = tf.Variable(tf.constant(0.1,shape=[2]))"
   ]
  },
  {
   "cell_type": "code",
   "execution_count": 27,
   "metadata": {
    "collapsed": true
   },
   "outputs": [],
   "source": [
    "y = tf.matmul(layer1,W2) + b2"
   ]
  },
  {
   "cell_type": "code",
   "execution_count": 28,
   "metadata": {
    "collapsed": true
   },
   "outputs": [],
   "source": [
    "cross_entropy = tf.reduce_mean(tf.nn.softmax_cross_entropy_with_logits(labels=Y,logits=y))"
   ]
  },
  {
   "cell_type": "code",
   "execution_count": 29,
   "metadata": {
    "collapsed": true
   },
   "outputs": [],
   "source": [
    "train_step = tf.train.AdamOptimizer(1e-5).minimize(cross_entropy)"
   ]
  },
  {
   "cell_type": "code",
   "execution_count": 30,
   "metadata": {},
   "outputs": [],
   "source": [
    "correct_prediction = tf.equal(tf.argmax(y,1),tf.argmax(Y,1))\n",
    "accuracy = tf.reduce_mean(tf.cast(correct_prediction,tf.float32))"
   ]
  },
  {
   "cell_type": "code",
   "execution_count": 31,
   "metadata": {},
   "outputs": [
    {
     "name": "stdout",
     "output_type": "stream",
     "text": [
      "step 0, training accuracy 0.46875\n",
      "step 100, training accuracy 0.4375\n",
      "step 200, training accuracy 0.53125\n",
      "step 300, training accuracy 0.5625\n",
      "step 400, training accuracy 0.6875\n",
      "step 500, training accuracy 0.34375\n",
      "step 600, training accuracy 0.4375\n",
      "step 700, training accuracy 0.46875\n",
      "step 800, training accuracy 0.6875\n",
      "step 900, training accuracy 0.59375\n",
      "step 1000, training accuracy 0.65625\n",
      "step 1100, training accuracy 0.53125\n",
      "step 1200, training accuracy 0.6875\n",
      "step 1300, training accuracy 0.6875\n",
      "step 1400, training accuracy 0.5\n",
      "step 1500, training accuracy 0.5\n",
      "step 1600, training accuracy 0.59375\n",
      "step 1700, training accuracy 0.71875\n",
      "step 1800, training accuracy 0.59375\n",
      "step 1900, training accuracy 0.625\n",
      "step 2000, training accuracy 0.46875\n",
      "step 2100, training accuracy 0.5625\n",
      "step 2200, training accuracy 0.625\n",
      "step 2300, training accuracy 0.6875\n",
      "step 2400, training accuracy 0.59375\n",
      "step 2500, training accuracy 0.53125\n",
      "step 2600, training accuracy 0.625\n",
      "step 2700, training accuracy 0.5625\n",
      "step 2800, training accuracy 0.5625\n",
      "step 2900, training accuracy 0.625\n",
      "step 3000, training accuracy 0.71875\n",
      "step 3100, training accuracy 0.6875\n",
      "step 3200, training accuracy 0.5625\n",
      "step 3300, training accuracy 0.78125\n",
      "step 3400, training accuracy 0.75\n",
      "step 3500, training accuracy 0.5625\n",
      "step 3600, training accuracy 0.6875\n",
      "step 3700, training accuracy 0.59375\n",
      "step 3800, training accuracy 0.46875\n",
      "step 3900, training accuracy 0.625\n",
      "step 4000, training accuracy 0.59375\n",
      "step 4100, training accuracy 0.65625\n",
      "step 4200, training accuracy 0.78125\n",
      "step 4300, training accuracy 0.75\n",
      "step 4400, training accuracy 0.53125\n",
      "step 4500, training accuracy 0.53125\n",
      "step 4600, training accuracy 0.71875\n",
      "step 4700, training accuracy 0.625\n",
      "step 4800, training accuracy 0.625\n",
      "step 4900, training accuracy 0.65625\n",
      "step 5000, training accuracy 0.6875\n",
      "step 5100, training accuracy 0.78125\n",
      "step 5200, training accuracy 0.71875\n",
      "step 5300, training accuracy 0.5625\n",
      "step 5400, training accuracy 0.71875\n",
      "step 5500, training accuracy 0.71875\n",
      "step 5600, training accuracy 0.75\n",
      "step 5700, training accuracy 0.71875\n",
      "step 5800, training accuracy 0.90625\n",
      "step 5900, training accuracy 0.6875\n",
      "step 6000, training accuracy 0.625\n",
      "step 6100, training accuracy 0.71875\n",
      "step 6200, training accuracy 0.59375\n",
      "step 6300, training accuracy 0.78125\n",
      "step 6400, training accuracy 0.71875\n",
      "step 6500, training accuracy 0.5625\n",
      "step 6600, training accuracy 0.65625\n",
      "step 6700, training accuracy 0.8125\n",
      "step 6800, training accuracy 0.625\n",
      "step 6900, training accuracy 0.71875\n",
      "step 7000, training accuracy 0.5625\n",
      "step 7100, training accuracy 0.65625\n",
      "step 7200, training accuracy 0.78125\n",
      "step 7300, training accuracy 0.59375\n",
      "step 7400, training accuracy 0.78125\n",
      "step 7500, training accuracy 0.75\n",
      "step 7600, training accuracy 0.78125\n",
      "step 7700, training accuracy 0.75\n",
      "step 7800, training accuracy 0.75\n",
      "step 7900, training accuracy 0.8125\n",
      "step 8000, training accuracy 0.6875\n",
      "step 8100, training accuracy 0.71875\n",
      "step 8200, training accuracy 0.6875\n",
      "step 8300, training accuracy 0.78125\n",
      "step 8400, training accuracy 0.6875\n",
      "step 8500, training accuracy 0.8125\n",
      "step 8600, training accuracy 0.6875\n",
      "step 8700, training accuracy 0.6875\n",
      "step 8800, training accuracy 0.875\n",
      "step 8900, training accuracy 0.84375\n",
      "step 9000, training accuracy 0.78125\n",
      "step 9100, training accuracy 0.65625\n",
      "step 9200, training accuracy 0.65625\n",
      "step 9300, training accuracy 0.875\n",
      "step 9400, training accuracy 0.75\n",
      "step 9500, training accuracy 0.84375\n",
      "step 9600, training accuracy 0.71875\n",
      "step 9700, training accuracy 0.59375\n",
      "step 9800, training accuracy 0.84375\n",
      "step 9900, training accuracy 0.84375\n",
      "test accuracy 0.663551\n"
     ]
    }
   ],
   "source": [
    "with tf.Session() as sess:\n",
    "    sess.run(tf.global_variables_initializer())\n",
    "    for i in range(10000):\n",
    "        xbatch,ybatch = generate_batch(Xtrain,Ytrain_o,32)\n",
    "        if i%100 == 0:\n",
    "            train_accuracy = accuracy.eval(feed_dict={X:xbatch,Y:ybatch})\n",
    "            print(\"step %d, training accuracy %g\"%(i,train_accuracy))\n",
    "        train_step.run(feed_dict={X:xbatch,Y:ybatch})\n",
    "    \n",
    "    print(\"test accuracy %g\" % accuracy.eval(feed_dict={X:Xval,Y:Yval_o}))\n",
    "        "
   ]
  },
  {
   "cell_type": "code",
   "execution_count": null,
   "metadata": {
    "collapsed": true
   },
   "outputs": [],
   "source": []
  }
 ],
 "metadata": {
  "kernelspec": {
   "display_name": "Python 2",
   "language": "python",
   "name": "python2"
  },
  "language_info": {
   "codemirror_mode": {
    "name": "ipython",
    "version": 2
   },
   "file_extension": ".py",
   "mimetype": "text/x-python",
   "name": "python",
   "nbconvert_exporter": "python",
   "pygments_lexer": "ipython2",
   "version": "2.7.13"
  }
 },
 "nbformat": 4,
 "nbformat_minor": 2
}
